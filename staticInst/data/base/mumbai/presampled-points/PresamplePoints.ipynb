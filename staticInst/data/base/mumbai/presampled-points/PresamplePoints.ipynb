{
 "cells": [
  {
   "cell_type": "code",
   "execution_count": 1,
   "metadata": {},
   "outputs": [],
   "source": [
    "import json\n",
    "import geopandas as gpd\n",
    "import pandas as pd\n",
    "import math\n",
    "from shapely.geometry import Point, MultiPolygon\n",
    "\n",
    "import csv\n",
    "import numpy as np\n",
    "import random\n",
    "import matplotlib.pyplot as plt\n",
    "\n",
    "import os\n"
   ]
  },
  {
   "cell_type": "code",
   "execution_count": 3,
   "metadata": {},
   "outputs": [],
   "source": [
    "geoDF = gpd.read_file(\"../city.geojson\")\n",
    "geoDF['wardNo'] = geoDF['wardNo'].astype(int)\n",
    "geoDF['wardIndex'] = geoDF['wardNo'] - 1\n",
    "geoDF = geoDF[['wardIndex','wardNo', 'wardName', 'geometry']]\n",
    "geoDF['wardBounds'] = geoDF.apply(lambda row: MultiPolygon(row['geometry']).bounds, axis=1)\n",
    "geoDF.sort_values('wardIndex', inplace=True)"
   ]
  },
  {
   "cell_type": "code",
   "execution_count": 4,
   "metadata": {},
   "outputs": [
    {
     "name": "stdout",
     "output_type": "stream",
     "text": [
      "WARNING: Check if this is a mismatch!\n",
      "14\t city.geojson: Chembur\t demographics: Chembur (East)\n"
     ]
    }
   ],
   "source": [
    "demographics = pd.read_csv(\"../demographics.csv\")\n",
    "for i in range(geoDF.shape[0]):\n",
    "    if geoDF[\"wardName\"].iloc[i] != demographics['wardName'].iloc[i]:\n",
    "        print(f\"WARNING: Check if this is a mismatch!\")\n",
    "        print(f\"{i}\\t city.geojson: {geoDF['wardName'].iloc[i]}\\t demographics: {demographics['wardName'].iloc[i]}\")    "
   ]
  },
  {
   "cell_type": "code",
   "execution_count": 4,
   "metadata": {},
   "outputs": [],
   "source": [
    "def sampleRandomLatLong(wardIndex):\n",
    "    #IMPORTANT: geoDF uses (lon, lat) order\n",
    "    (lon1,lat1,lon2,lat2) = geoDF['wardBounds'][wardIndex]\n",
    "    while True:\n",
    "        lat = random.uniform(lat1,lat2)\n",
    "        lon = random.uniform(lon1,lon2)\n",
    "        point = Point(lon,lat)\n",
    "        if MultiPolygon(geoDF['geometry'][wardIndex]).contains(point):\n",
    "            return (lat,lon)"
   ]
  },
  {
   "cell_type": "code",
   "execution_count": 5,
   "metadata": {},
   "outputs": [],
   "source": [
    "geoDFslums = gpd.read_file('slumClusters.geojson')\n",
    "wardslums = [[] for _ in range(len(geoDF))]\n",
    "for i in range(len(geoDFslums)):\n",
    "    for j in range(len(geoDF)):\n",
    "        if geoDFslums[\"geometry\"][i].intersects(geoDF[\"geometry\"][j]):\n",
    "            wardslums[j].append(i)"
   ]
  },
  {
   "cell_type": "code",
   "execution_count": 10,
   "metadata": {},
   "outputs": [],
   "source": [
    "numpoints = 1000\n",
    "nwards = 24\n",
    "for i in range(nwards):\n",
    "    fname=str(i)+\".csv\"\n",
    "    with open(fname, mode='w+') as file:\n",
    "        writer = csv.writer(file, delimiter=',', quotechar='\"', quoting=csv.QUOTE_MINIMAL)\n",
    "        for j in range(numpoints):\n",
    "            (lat,lon) = sampleRandomLatLong(i)\n",
    "            writer.writerow([str(lat),str(lon)])"
   ]
  },
  {
   "cell_type": "code",
   "execution_count": 13,
   "metadata": {},
   "outputs": [
    {
     "name": "stdout",
     "output_type": "stream",
     "text": [
      "Generating points for ward 1\n",
      "..................................................done\n",
      "Generating points for ward 2\n",
      "..................................................done\n",
      "Generating points for ward 3\n",
      "..................................................done\n",
      "Generating points for ward 4\n",
      "..................................................done\n",
      "Generating points for ward 5\n",
      "..................................................done\n",
      "Generating points for ward 6\n",
      "..................................................done\n",
      "Generating points for ward 7\n",
      "..................................................done\n",
      "Generating points for ward 8\n",
      "..................................................done\n",
      "Generating points for ward 9\n",
      "..................................................done\n",
      "Generating points for ward 10\n",
      "..................................................done\n",
      "Generating points for ward 11\n",
      "..................................................done\n",
      "Generating points for ward 12\n",
      "..................................................done\n",
      "Generating points for ward 13\n",
      "..................................................done\n",
      "Generating points for ward 14\n",
      "..................................................done\n",
      "Generating points for ward 15\n",
      "..................................................done\n",
      "Generating points for ward 16\n",
      "..................................................done\n",
      "Generating points for ward 17\n",
      "..................................................done\n",
      "Generating points for ward 18\n",
      "..................................................done\n",
      "Generating points for ward 19\n",
      "..................................................done\n",
      "Generating points for ward 20\n",
      "..................................................done\n",
      "Generating points for ward 21\n",
      "..................................................done\n",
      "Generating points for ward 22\n",
      "..................................................done\n",
      "Generating points for ward 23\n",
      "..................................................done\n",
      "Generating points for ward 24\n",
      "..................................................done\n"
     ]
    }
   ],
   "source": [
    "numpoints = 1000\n",
    "for wardIndex in range(nwards):\n",
    "    print(f\"Generating points for ward {wardIndex+1}\")\n",
    "    \n",
    "    (lon1,lat1,lon2,lat2) = geoDF['wardBounds'][wardIndex]\n",
    "    \n",
    "    fname = f\"{wardIndex}_hd.csv\"\n",
    "    with open(fname, mode='w+') as file:\n",
    "        writer = csv.writer(file, delimiter=',', quotechar='\"', quoting=csv.QUOTE_MINIMAL)\n",
    "\n",
    "        count = 0\n",
    "        while(count < numpoints):\n",
    "            (lat,lon) = sampleRandomLatLong(wardIndex)\n",
    "            point = Point(lon,lat) #IMPORTANT: Point takes in order of longitude, latitude\n",
    "\n",
    "            found=False\n",
    "            if len(wardslums[wardIndex])==0:\n",
    "                found=True\n",
    "            else:\n",
    "                for i in wardslums[wardIndex]:\n",
    "                    if geoDFslums[\"geometry\"][i].contains(point):\n",
    "                        found=True\n",
    "                        break\n",
    "            if(found):\n",
    "                writer.writerow([str(lat),str(lon)])\n",
    "                count+=1\n",
    "                if count % 20 == 0:\n",
    "                    print(\".\",end='')\n",
    "        print(\"done\")"
   ]
  },
  {
   "cell_type": "code",
   "execution_count": null,
   "metadata": {},
   "outputs": [],
   "source": []
  }
 ],
 "metadata": {
  "kernelspec": {
   "display_name": "Python 3",
   "language": "python",
   "name": "python3"
  },
  "language_info": {
   "codemirror_mode": {
    "name": "ipython",
    "version": 3
   },
   "file_extension": ".py",
   "mimetype": "text/x-python",
   "name": "python",
   "nbconvert_exporter": "python",
   "pygments_lexer": "ipython3",
   "version": "3.7.3"
  }
 },
 "nbformat": 4,
 "nbformat_minor": 4
}
