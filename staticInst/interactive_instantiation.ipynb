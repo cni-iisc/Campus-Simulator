{
 "cells": [
  {
   "cell_type": "code",
   "execution_count": 1,
   "metadata": {
    "scrolled": true
   },
   "outputs": [],
   "source": [
    "#!/usr/bin/env python3\n",
    "# -*- coding: utf-8 -*-\n",
    "\"\"\"\n",
    "Copyright [2020] [Indian Institute of Science, Bangalore]\n",
    "SPDX-License-Identifier: Apache-2.0\n",
    "\"\"\"\n",
    "__name__ = \"Instantiate a city and dump instantiations as json\"\n",
    "\n",
    "import os, sys\n",
    "import json\n",
    "import pandas as pd\n",
    "import warnings\n",
    "warnings.filterwarnings('ignore')\n",
    "import time\n",
    "\n",
    "#Data-processing Functions\n",
    "from modules.processDemographics import *\n",
    "from modules.processGeoData import *\n",
    "\n",
    "# Functions to instantiate individuals to houses, schools, workplaces and community centres\n",
    "from modules.assignHouses import *\n",
    "from modules.assignSchools import *\n",
    "from modules.assignWorkplaces import *\n",
    "\n",
    "\n",
    "city = \"bangalore\"\n",
    "targetPopulation = 10000\n",
    "averageStudents = 17\n",
    "averageWorkforce = 2\n",
    "\n",
    "\n",
    "\n",
    "\n"
   ]
  },
  {
   "cell_type": "code",
   "execution_count": 2,
   "metadata": {},
   "outputs": [],
   "source": [
    "## Processing Data files"
   ]
  },
  {
   "cell_type": "code",
   "execution_count": 3,
   "metadata": {},
   "outputs": [
    {
     "name": "stdout",
     "output_type": "stream",
     "text": [
      "processing data ready ...\n",
      "processing data completed completed in  3.0829808712005615\n"
     ]
    }
   ],
   "source": [
    "#create directory to store parsed data\n",
    "if not os.path.exists(\"data/\"+city):\n",
    "    os.mkdir(\"data/\"+city)   \n",
    "\n",
    "print(\"processing data ready ...\")\n",
    "start = time.time()\n",
    "cityGeojson = \"data/base/\"+city+\"/city.geojson\"\n",
    "cityGeoDF = parse_geospatial_data(cityGeojson)\n",
    "\n",
    "if \"cityProfile.json\" in os.listdir(\"data/base/\"+city):\n",
    "    cityProfile = \"data/base/\"+city+\"/cityProfile.json\"\n",
    "    ageDistribution, householdDistribution, schoolDistribution = process_city_profile(cityProfile)\n",
    "\n",
    "demographicsData = pd.read_csv(\"data/base/\"+city+\"/demographics.csv\")\n",
    "housesData = pd.read_csv(\"data/base/\"+city+\"/households.csv\")\n",
    "employmentData = pd.read_csv(\"data/base/\"+city+\"/employment.csv\")\n",
    "print(\"processing data completed completed in \", time.time() - start)"
   ]
  },
  {
   "cell_type": "code",
   "execution_count": 4,
   "metadata": {},
   "outputs": [],
   "source": [
    "## Computing additional parameters"
   ]
  },
  {
   "cell_type": "code",
   "execution_count": 5,
   "metadata": {},
   "outputs": [
    {
     "name": "stdout",
     "output_type": "stream",
     "text": [
      "getting parameters ready ...\n",
      "getting parameters ready completed in  0.1620643138885498\n"
     ]
    }
   ],
   "source": [
    "print(\"getting parameters ready ...\")\n",
    "start = time.time()\n",
    "demographicsData = process_data(demographicsData, housesData, employmentData, targetPopulation, ageDistribution) \n",
    "\n",
    "totalPopulation = demographicsData['Total Population (in thousands)'].values.sum()\n",
    "people_over_60 = float(demographicsData[['age 60-64']].sum()) + float(demographicsData[['age 65-69']].sum()) + float(demographicsData[['age 70-74']].sum()) + float(demographicsData[['age 75-79']].sum()) + float(demographicsData[['age 80+']].sum())\n",
    "\n",
    "population_over_60 = totalPopulation * (people_over_60/ totalPopulation)\n",
    "total_employable = (float(demographicsData[['age 15-19']].sum())+\\\n",
    "                                                float(demographicsData[['age 20-24']].sum()))+\\\n",
    "                                                float(demographicsData[['age 25-29']].sum())+\\\n",
    "                                                float(demographicsData[['age 30-34']].sum())+\\\n",
    "                                                float(demographicsData[['age 35-39']].sum())+\\\n",
    "                                                float(demographicsData[['age 40-44']].sum())+\\\n",
    "                                                float(demographicsData[['age 45-49']].sum())+\\\n",
    "                                                float(demographicsData[['age 50-54']].sum())+\\\n",
    "                                                float(demographicsData[['age 55-59']].sum())\n",
    "\n",
    "employable_population = totalPopulation * ((total_employable/totalPopulation)) + ((float(demographicsData[['age 15-19']].sum())/totalPopulation) * 0.5)\n",
    "\n",
    "total_unemployed = demographicsData['unemployed'].values.sum()\n",
    "unemployed_but_employable = total_unemployed - population_over_60\n",
    "unemployed_fraction = unemployed_but_employable  / (totalPopulation - float(demographicsData[['population - children aged 0-14 (in thousands)']].sum()) - population_over_60)\n",
    "\n",
    "# print(people_over_60, unemployed_fraction, employable_population, total_employable, total_unemployed, unemployed_but_employable )\n",
    "\n",
    "totalNumberOfWards = len(demographicsData['Ward No.'].values)\n",
    "averageHouseholds = totalPopulation / demographicsData['totalHouseholds'].values.sum()\n",
    "\n",
    "commonArea = commonAreaLocation(cityGeoDF)\n",
    "print(\"getting parameters ready completed in \", time.time() - start)\n"
   ]
  },
  {
   "cell_type": "code",
   "execution_count": 6,
   "metadata": {},
   "outputs": [],
   "source": [
    "## Assignment of individuals to households"
   ]
  },
  {
   "cell_type": "code",
   "execution_count": 7,
   "metadata": {},
   "outputs": [
    {
     "name": "stdout",
     "output_type": "stream",
     "text": [
      "instantiating individuals to households...\n",
      "instantiating individuals to households completed in  11.18013072013855\n",
      "instantiating individual location by house location...\n",
      "instantiating individual location by house location completed in  0.3364753723144531\n"
     ]
    }
   ],
   "source": [
    "print(\"instantiating individuals to households...\")\n",
    "start = time.time()\n",
    "individuals, households = assign_individuals_to_houses(targetPopulation, totalNumberOfWards, averageHouseholds, ageDistribution, householdDistribution, unemployed_fraction)\n",
    "print(\"instantiating individuals to households completed in \", time.time() - start)\n",
    "\n",
    "print(\"instantiating individual location by house location...\")\n",
    "start = time.time()\n",
    "households, individuals = houseLocation(cityGeoDF, individuals, households)\n",
    "print(\"instantiating individual location by house location completed in \", time.time() - start)"
   ]
  },
  {
   "cell_type": "markdown",
   "metadata": {},
   "source": [
    "## Assigning individuals to workplaces and schools"
   ]
  },
  {
   "cell_type": "code",
   "execution_count": 8,
   "metadata": {},
   "outputs": [
    {
     "name": "stdout",
     "output_type": "stream",
     "text": [
      "instantiating individuals to workplaces...\n",
      "instantiating individuals to workplaces completed in  17.985671520233154\n"
     ]
    }
   ],
   "source": [
    "print(\"instantiating individuals to workplaces...\")\n",
    "start = time.time()\n",
    "workplaces, individuals = assign_workplaces(cityGeoDF, individuals)\n",
    "print(\"instantiating individuals to workplaces completed in \", time.time() - start)"
   ]
  },
  {
   "cell_type": "code",
   "execution_count": 9,
   "metadata": {},
   "outputs": [
    {
     "name": "stdout",
     "output_type": "stream",
     "text": [
      "instantiating individuals to schools...\n",
      "instantiating individuals to schools completed in  2.6760940551757812\n"
     ]
    }
   ],
   "source": [
    "print(\"instantiating individuals to schools...\")\n",
    "start = time.time()\n",
    "individuals, schools = assign_schools(individuals, cityGeoDF,  schoolDistribution)\n",
    "print(\"instantiating individuals to schools completed in \", time.time() - start)"
   ]
  },
  {
   "cell_type": "markdown",
   "metadata": {},
   "source": [
    "## additonal processing based on demographics data"
   ]
  },
  {
   "cell_type": "code",
   "execution_count": 10,
   "metadata": {},
   "outputs": [
    {
     "name": "stdout",
     "output_type": "stream",
     "text": [
      "additonal data processing...\n",
      "additonal data processing completed in  0.6415956020355225\n"
     ]
    }
   ],
   "source": [
    "print(\"additonal data processing...\")\n",
    "start = time.time()\n",
    "\n",
    "#associate individuals to common areas (by distance) and categorize workplace Type\n",
    "def getDistances(row, cc):\n",
    "    findCommunityCentre = cc[int(row[\"wardNo\"])]\n",
    "    lat1 = row['lat']\n",
    "    lon1 = row['lon']\n",
    "\n",
    "    lat2 = findCommunityCentre[1]\n",
    "    lon2 = findCommunityCentre[0]\n",
    "\n",
    "    return distance(lat1, lon1, lat2, lon2)\n",
    "\n",
    "individuals['CommunityCentreDistance'] = individuals.apply(getDistances, axis=1, args=(commonArea['location'].values,))\n",
    "\n",
    "#Combining the IDs for schools and workplaces\n",
    "schoolID = schools['ID'].values[-1]\n",
    "workplaceID = [schoolID+1 + index for index in workplaces['ID'].values]\n",
    "workplaces['ID'] = workplaceID\n",
    "workplaces = workplaces.sort_values(by=['ID'])\n",
    "\n",
    "demographicsData['fracPopulation'] = demographicsData.apply(lambda row: row['Total Population (in thousands)']/demographicsData['Total Population (in thousands)'].values.sum(), axis=1)\n",
    "demographicsData = demographicsData.rename(columns={\"Ward No.\": \"wardNo\"})\n",
    "print(\"additonal data processing completed in \", time.time() - start)"
   ]
  },
  {
   "cell_type": "markdown",
   "metadata": {},
   "source": [
    "## Dumping Instantiated static files as JSONs"
   ]
  },
  {
   "cell_type": "code",
   "execution_count": 11,
   "metadata": {},
   "outputs": [
    {
     "name": "stdout",
     "output_type": "stream",
     "text": [
      "saving instantiations as JSON....\n",
      "saving instantiations as JSON completed in  0.0832223892211914\n"
     ]
    }
   ],
   "source": [
    "print(\"saving instantiations as JSON....\")\n",
    "start = time.time()\n",
    "individuals.to_json(\"data/\"+city+\"/individuals.json\", orient='records')\n",
    "households[['id', 'wardNo' ,'lat', 'lon']].to_json(\"data/\"+city+\"/houses.json\", orient='records')\n",
    "schools[['ID', 'ward' ,'lat', 'lon']].to_json(\"data/\"+city+\"/schools.json\", orient='records')\n",
    "workplaces[['ID', 'ward' ,'lat', 'lon']].to_json(\"data/\"+city+\"/workplaces.json\", orient='records')\n",
    "commonArea[['ID', 'wardNo' ,'lat', 'lon']].to_json(\"data/\"+city+\"/commonArea.json\", orient='records')\n",
    "computeWardCentreDistance(cityGeoDF, \"data/\"+city+\"/wardCentreDistance.json\")\n",
    "demographicsData[['wardNo', 'Total Population (in thousands)', 'fracPopulation']].to_json(\"data/\"+city+\"/fractionPopulation.json\", orient=\"records\")\n",
    "print(\"saving instantiations as JSON completed in \", time.time() - start)"
   ]
  }
 ],
 "metadata": {
  "kernelspec": {
   "display_name": "Python 3",
   "language": "python",
   "name": "python3"
  },
  "language_info": {
   "codemirror_mode": {
    "name": "ipython",
    "version": 3
   },
   "file_extension": ".py",
   "mimetype": "text/x-python",
   "name": "python",
   "nbconvert_exporter": "python",
   "pygments_lexer": "ipython3",
   "version": "3.6.9"
  }
 },
 "nbformat": 4,
 "nbformat_minor": 2
}
