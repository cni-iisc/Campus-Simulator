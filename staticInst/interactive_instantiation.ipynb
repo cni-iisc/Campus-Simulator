{
 "cells": [
  {
   "cell_type": "code",
   "execution_count": 1,
   "metadata": {
    "scrolled": true
   },
   "outputs": [],
   "source": [
    "#!/usr/bin/env python3\n",
    "# -*- coding: utf-8 -*-\n",
    "\"\"\"\n",
    "Copyright [2020] [Indian Institute of Science, Bangalore]\n",
    "SPDX-License-Identifier: Apache-2.0\n",
    "\"\"\"\n",
    "__name__ = \"Instantiate a city and dump instantiations as json\"\n",
    "\n",
    "import os, sys\n",
    "import json\n",
    "import pandas as pd\n",
    "import warnings\n",
    "warnings.filterwarnings('ignore')\n",
    "import time\n",
    "\n",
    "#Data-processing Functions\n",
    "from modules.processDemographics import *\n",
    "from modules.processGeoData import *\n",
    "\n",
    "# Functions to instantiate individuals to houses, schools, workplaces and community centres\n",
    "from modules.assignHouses import *\n",
    "from modules.assignSchools import *\n",
    "from modules.assignWorkplaces import *\n",
    "\n",
    "\n",
    "city = \"nyc\"\n",
    "targetPopulation = 10000\n",
    "averageStudents = 17\n",
    "averageWorkforce = 2"
   ]
  },
  {
   "cell_type": "markdown",
   "metadata": {},
   "source": [
    "## Processing Data files"
   ]
  },
  {
   "cell_type": "code",
   "execution_count": 2,
   "metadata": {},
   "outputs": [
    {
     "name": "stdout",
     "output_type": "stream",
     "text": [
      "processing data ready ...\n",
      "processing data completed completed in  10.344923496246338\n"
     ]
    }
   ],
   "source": [
    "#create directory to store parsed data\n",
    "if not os.path.exists(\"data/\"+city):\n",
    "    os.mkdir(\"data/\"+city)   \n",
    "\n",
    "print(\"processing data ready ...\")\n",
    "start = time.time()\n",
    "cityGeojson = \"data/base/\"+city+\"/city.geojson\"\n",
    "cityGeoDF = parse_geospatial_data(cityGeojson)\n",
    "\n",
    "if \"cityProfile.json\" in os.listdir(\"data/base/\"+city):\n",
    "    cityProfile = \"data/base/\"+city+\"/cityProfile.json\"\n",
    "    ageDistribution, householdDistribution, schoolDistribution, householdSizes, unemployed_fraction = process_city_profile(cityProfile)\n",
    "\n",
    "demographicsData = pd.read_csv(\"data/base/\"+city+\"/demographics.csv\")\n",
    "housesData = pd.read_csv(\"data/base/\"+city+\"/households.csv\")\n",
    "employmentData = pd.read_csv(\"data/base/\"+city+\"/employment.csv\")\n",
    "print(\"processing data completed completed in \", time.time() - start)"
   ]
  },
  {
   "cell_type": "markdown",
   "metadata": {},
   "source": [
    "## Computing additional parameters"
   ]
  },
  {
   "cell_type": "code",
   "execution_count": 3,
   "metadata": {},
   "outputs": [
    {
     "name": "stdout",
     "output_type": "stream",
     "text": [
      "getting parameters ready ...\n",
      "getting parameters ready completed in  0.13752102851867676\n"
     ]
    }
   ],
   "source": [
    "print(\"getting parameters ready ...\")\n",
    "start = time.time()\n",
    "demographicsData = process_data(demographicsData, housesData, employmentData, targetPopulation, ageDistribution) \n",
    "\n",
    "totalPopulation = demographicsData['totalPopulation'].values.sum()\n",
    "if unemployed_fraction == 0:\n",
    "    people_over_60 = float(demographicsData[['age 60-64']].sum()) + float(demographicsData[['age 65-69']].sum()) + float(demographicsData[['age 70-74']].sum()) + float(demographicsData[['age 75-79']].sum()) + float(demographicsData[['age 80+']].sum())\n",
    "\n",
    "    population_over_60 = totalPopulation * (people_over_60/ totalPopulation)\n",
    "    total_employable = (float(demographicsData[['age 15-19']].sum())+\\\n",
    "                                                    float(demographicsData[['age 20-24']].sum()))+\\\n",
    "                                                    float(demographicsData[['age 25-29']].sum())+\\\n",
    "                                                    float(demographicsData[['age 30-34']].sum())+\\\n",
    "                                                    float(demographicsData[['age 35-39']].sum())+\\\n",
    "                                                    float(demographicsData[['age 40-44']].sum())+\\\n",
    "                                                    float(demographicsData[['age 45-49']].sum())+\\\n",
    "                                                    float(demographicsData[['age 50-54']].sum())+\\\n",
    "                                                    float(demographicsData[['age 55-59']].sum())\n",
    "\n",
    "    employable_population = totalPopulation * ((total_employable/totalPopulation)) + ((float(demographicsData[['age 15-19']].sum())/totalPopulation) * 0.5)\n",
    "\n",
    "    total_unemployed = demographicsData['unemployed'].values.sum()\n",
    "    unemployed_but_employable = total_unemployed - population_over_60\n",
    "    unemployed_fraction = unemployed_but_employable  / (totalPopulation - population_over_60)\n",
    "\n",
    "# print(people_over_60, unemployed_fraction, employable_population, total_employable, total_unemployed, unemployed_but_employable )\n",
    "\n",
    "totalNumberOfWards = len(demographicsData['wardNo'].values)\n",
    "averageHouseholds = totalPopulation / demographicsData['totalHouseholds'].values.sum()\n",
    "\n",
    "commonArea = commonAreaLocation(cityGeoDF)\n",
    "print(\"getting parameters ready completed in \", time.time() - start)\n"
   ]
  },
  {
   "cell_type": "markdown",
   "metadata": {},
   "source": [
    "## Assignment of individuals to households"
   ]
  },
  {
   "cell_type": "code",
   "execution_count": 4,
   "metadata": {},
   "outputs": [
    {
     "name": "stdout",
     "output_type": "stream",
     "text": [
      "instantiating individuals to households...\n",
      "computed unemployment fraction =  0.012\n",
      "mean 2.5374300000000005\n",
      "instantiating individuals to households completed in  12.020685911178589\n",
      "instantiating individual location by house location...\n",
      "instantiating individual location by house location completed in  0.5406820774078369\n"
     ]
    }
   ],
   "source": [
    "print(\"instantiating individuals to households...\")\n",
    "start = time.time()\n",
    "print(\"computed unemployment fraction = \", unemployed_fraction)\n",
    "individuals, households = assign_individuals_to_houses(targetPopulation, totalNumberOfWards, ageDistribution, householdSizes, householdDistribution, unemployed_fraction)\n",
    "print(\"instantiating individuals to households completed in \", time.time() - start)\n",
    "\n",
    "print(\"instantiating individual location by house location...\")\n",
    "start = time.time()\n",
    "households, individuals = houseLocation(cityGeoDF, individuals, households)\n",
    "print(\"instantiating individual location by house location completed in \", time.time() - start)"
   ]
  },
  {
   "cell_type": "markdown",
   "metadata": {},
   "source": [
    "## Assigning individuals to workplaces and schools"
   ]
  },
  {
   "cell_type": "code",
   "execution_count": 5,
   "metadata": {},
   "outputs": [
    {
     "name": "stdout",
     "output_type": "stream",
     "text": [
      "instantiating individuals to workplaces...\n",
      "instantiating individuals to workplaces completed in  64.42512845993042\n"
     ]
    }
   ],
   "source": [
    "print(\"instantiating individuals to workplaces...\")\n",
    "start = time.time()\n",
    "workplaces, individuals = assign_workplaces(cityGeoDF, individuals)\n",
    "print(\"instantiating individuals to workplaces completed in \", time.time() - start)"
   ]
  },
  {
   "cell_type": "code",
   "execution_count": 6,
   "metadata": {},
   "outputs": [
    {
     "name": "stdout",
     "output_type": "stream",
     "text": [
      "instantiating individuals to schools...\n",
      "instantiating individuals to schools completed in  2.0800535678863525\n"
     ]
    }
   ],
   "source": [
    "print(\"instantiating individuals to schools...\")\n",
    "start = time.time()\n",
    "individuals, schools = assign_schools(individuals, cityGeoDF,  schoolDistribution)\n",
    "print(\"instantiating individuals to schools completed in \", time.time() - start)"
   ]
  },
  {
   "cell_type": "markdown",
   "metadata": {},
   "source": [
    "## additonal processing based on demographics data"
   ]
  },
  {
   "cell_type": "code",
   "execution_count": 7,
   "metadata": {},
   "outputs": [
    {
     "name": "stdout",
     "output_type": "stream",
     "text": [
      "additonal data processing...\n",
      "additonal data processing completed in  0.6612865924835205\n"
     ]
    }
   ],
   "source": [
    "print(\"additonal data processing...\")\n",
    "start = time.time()\n",
    "\n",
    "#associate individuals to common areas (by distance) and categorize workplace Type\n",
    "def getDistances(row, cc):\n",
    "    findCommunityCentre = cc[int(row[\"wardIndex\"])]\n",
    "\n",
    "    lat1 = row['lat']\n",
    "    lon1 = row['lon']\n",
    "\n",
    "    lat2 = findCommunityCentre[1]\n",
    "    lon2 = findCommunityCentre[0]\n",
    "\n",
    "    return distance(lat1, lon1, lat2, lon2)\n",
    "\n",
    "individuals['CommunityCentreDistance'] = individuals.apply(getDistances, axis=1, args=(commonArea['location'].values,))\n",
    "\n",
    "#Combining the IDs for schools and workplaces\n",
    "schoolID = schools['ID'].values[-1]\n",
    "workplaceID = [schoolID+1 + index for index in workplaces['ID'].values]\n",
    "workplaces['ID'] = workplaceID\n",
    "workplaces = workplaces.sort_values(by=['ID'])\n",
    "\n",
    "demographicsData['fracPopulation'] = demographicsData.apply(lambda row: row['totalPopulation']/demographicsData['totalPopulation'].values.sum(), axis=1)\n",
    "demographicsData = demographicsData.rename(columns={\"wardNo\": \"wardNo\"})\n",
    "print(\"additonal data processing completed in \", time.time() - start)"
   ]
  },
  {
   "cell_type": "markdown",
   "metadata": {},
   "source": [
    "## Dumping Instantiated static files as JSONs"
   ]
  },
  {
   "cell_type": "code",
   "execution_count": 8,
   "metadata": {},
   "outputs": [
    {
     "name": "stdout",
     "output_type": "stream",
     "text": [
      "saving instantiations as JSON....\n",
      "saving instantiations as JSON completed in  0.08481740951538086\n"
     ]
    }
   ],
   "source": [
    "print(\"saving instantiations as JSON....\")\n",
    "start = time.time()\n",
    "individuals.to_json(\"data/\"+city+\"/individuals.json\", orient='records')\n",
    "households[['id', 'wardNo' ,'lat', 'lon']].to_json(\"data/\"+city+\"/houses.json\", orient='records')\n",
    "schools[['ID', 'ward' ,'lat', 'lon']].to_json(\"data/\"+city+\"/schools.json\", orient='records')\n",
    "workplaces[['ID', 'ward' ,'lat', 'lon']].to_json(\"data/\"+city+\"/workplaces.json\", orient='records')\n",
    "commonArea[['ID', 'wardNo' ,'lat', 'lon']].to_json(\"data/\"+city+\"/commonArea.json\", orient='records')\n",
    "computeWardCentreDistance(cityGeoDF, \"data/\"+city+\"/wardCentreDistance.json\")\n",
    "demographicsData[['wardNo', 'totalPopulation', 'fracPopulation']].to_json(\"data/\"+city+\"/fractionPopulation.json\", orient=\"records\")\n",
    "print(\"saving instantiations as JSON completed in \", time.time() - start)"
   ]
  }
 ],
 "metadata": {
  "kernelspec": {
   "display_name": "Python 3",
   "language": "python",
   "name": "python3"
  },
  "language_info": {
   "codemirror_mode": {
    "name": "ipython",
    "version": 3
   },
   "file_extension": ".py",
   "mimetype": "text/x-python",
   "name": "python",
   "nbconvert_exporter": "python",
   "pygments_lexer": "ipython3",
   "version": "3.6.9"
  }
 },
 "nbformat": 4,
 "nbformat_minor": 2
}
