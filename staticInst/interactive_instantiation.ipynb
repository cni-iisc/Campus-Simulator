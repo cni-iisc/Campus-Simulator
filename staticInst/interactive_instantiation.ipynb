{
 "cells": [
  {
   "cell_type": "code",
   "execution_count": 1,
   "metadata": {
    "scrolled": true
   },
   "outputs": [],
   "source": [
    "#!/usr/bin/env python3\n",
    "# -*- coding: utf-8 -*-\n",
    "\"\"\"\n",
    "Copyright [2020] [Indian Institute of Science, Bangalore]\n",
    "SPDX-License-Identifier: Apache-2.0\n",
    "\"\"\"\n",
    "__name__ = \"Instantiate a city and dump instantiations as json\"\n",
    "\n",
    "import os, sys\n",
    "import json\n",
    "import pandas as pd\n",
    "import warnings\n",
    "warnings.filterwarnings('ignore')\n",
    "import time\n",
    "\n",
    "#Data-processing Functions\n",
    "from modules.processDemographics import *\n",
    "from modules.processGeoData import *\n",
    "\n",
    "# Functions to instantiate individuals to houses, schools, workplaces and community centres\n",
    "from modules.assignHouses import *\n",
    "from modules.assignSchools import *\n",
    "from modules.assignWorkplaces import *\n",
    "\n",
    "\n",
    "city = \"bangalore\"\n",
    "targetPopulation = 10000\n",
    "averageStudents = 17\n",
    "averageWorkforce = 2"
   ]
  },
  {
   "cell_type": "markdown",
   "metadata": {},
   "source": [
    "## Processing Data files"
   ]
  },
  {
   "cell_type": "code",
   "execution_count": 2,
   "metadata": {},
   "outputs": [
    {
     "name": "stdout",
     "output_type": "stream",
     "text": [
      "processing data ready ...\n",
      "processing data completed completed in  6.057482481002808\n"
     ]
    }
   ],
   "source": [
    "#create directory to store parsed data\n",
    "if not os.path.exists(\"data/\"+city):\n",
    "    os.mkdir(\"data/\"+city)   \n",
    "\n",
    "print(\"processing data ready ...\")\n",
    "start = time.time()\n",
    "cityGeojson = \"data/base/\"+city+\"/city.geojson\"\n",
    "cityGeoDF = parse_geospatial_data(cityGeojson)\n",
    "\n",
    "\n",
    "if \"cityProfile.json\" in os.listdir(\"data/base/\"+city):\n",
    "    cityProfile = \"data/base/\"+city+\"/cityProfile.json\"\n",
    "    ageDistribution, householdDistribution, schoolDistribution, householdSizes, unemployed_fraction, maxWorkplaceDistance = process_city_profile(cityProfile)\n",
    "\n",
    "demographicsData = pd.read_csv(\"data/base/\"+city+\"/demographics.csv\")\n",
    "housesData = pd.read_csv(\"data/base/\"+city+\"/households.csv\")\n",
    "employmentData = pd.read_csv(\"data/base/\"+city+\"/employment.csv\")\n",
    "print(\"processing data completed completed in \", time.time() - start)"
   ]
  },
  {
   "cell_type": "markdown",
   "metadata": {},
   "source": [
    "## Computing additional parameters"
   ]
  },
  {
   "cell_type": "code",
   "execution_count": 3,
   "metadata": {},
   "outputs": [
    {
     "name": "stdout",
     "output_type": "stream",
     "text": [
      "getting parameters ready ...\n",
      "getting parameters ready completed in  0.478851318359375\n"
     ]
    }
   ],
   "source": [
    "print(\"getting parameters ready ...\")\n",
    "start = time.time()\n",
    "demographicsData = process_data(demographicsData, housesData, employmentData, targetPopulation, ageDistribution) \n",
    "\n",
    "totalPopulation = demographicsData['totalPopulation'].values.sum()\n",
    "if unemployed_fraction == 0:\n",
    "    people_over_60 = float(demographicsData[['age 60-64']].sum()) + float(demographicsData[['age 65-69']].sum()) + float(demographicsData[['age 70-74']].sum()) + float(demographicsData[['age 75-79']].sum()) + float(demographicsData[['age 80+']].sum())\n",
    "\n",
    "    population_over_60 = totalPopulation * (people_over_60/ totalPopulation)\n",
    "    total_employable = (float(demographicsData[['age 15-19']].sum())+\\\n",
    "                                                    float(demographicsData[['age 20-24']].sum()))+\\\n",
    "                                                    float(demographicsData[['age 25-29']].sum())+\\\n",
    "                                                    float(demographicsData[['age 30-34']].sum())+\\\n",
    "                                                    float(demographicsData[['age 35-39']].sum())+\\\n",
    "                                                    float(demographicsData[['age 40-44']].sum())+\\\n",
    "                                                    float(demographicsData[['age 45-49']].sum())+\\\n",
    "                                                    float(demographicsData[['age 50-54']].sum())+\\\n",
    "                                                    float(demographicsData[['age 55-59']].sum())\n",
    "\n",
    "    employable_population = totalPopulation * ((total_employable/totalPopulation)) + ((float(demographicsData[['age 15-19']].sum())/totalPopulation) * 0.5)\n",
    "\n",
    "    total_unemployed = demographicsData['unemployed'].values.sum()\n",
    "    unemployed_but_employable = total_unemployed - population_over_60\n",
    "    unemployed_fraction = unemployed_but_employable  / (totalPopulation - population_over_60)\n",
    "\n",
    "# print(people_over_60, unemployed_fraction, employable_population, total_employable, total_unemployed, unemployed_but_employable )\n",
    "\n",
    "totalNumberOfWards = len(demographicsData['wardNo'].values)\n",
    "averageHouseholds = totalPopulation / demographicsData['totalHouseholds'].values.sum()\n",
    "\n",
    "commonArea = commonAreaLocation(cityGeoDF)\n",
    "print(\"getting parameters ready completed in \", time.time() - start)\n"
   ]
  },
  {
   "cell_type": "markdown",
   "metadata": {},
   "source": [
    "## Assignment of individuals to households"
   ]
  },
  {
   "cell_type": "code",
   "execution_count": 4,
   "metadata": {},
   "outputs": [
    {
     "name": "stdout",
     "output_type": "stream",
     "text": [
      "instantiating individuals to households...\n",
      "computed unemployment fraction =  0.46826047577725327\n",
      "instantiating individuals to households completed in  23.055346250534058\n",
      "instantiating individual location by house location...\n",
      "instantiating individual location by house location completed in  0.6386451721191406\n"
     ]
    }
   ],
   "source": [
    "#assignment of individuals to households\n",
    "print(\"instantiating individuals to households...\")\n",
    "start = time.time()\n",
    "print(\"computed unemployment fraction = \", unemployed_fraction)\n",
    "households, individuals = assign_individuals_to_houses(targetPopulation, totalNumberOfWards, ageDistribution, householdSizes, householdDistribution, unemployed_fraction)\n",
    "print(\"instantiating individuals to households completed in \", time.time() - start)\n",
    "\n",
    "print(\"instantiating individual location by house location...\")\n",
    "start = time.time()\n",
    "households, individuals = houseLocation(cityGeoDF, individuals, households)\n",
    "print(\"instantiating individual location by house location completed in \", time.time() - start)"
   ]
  },
  {
   "cell_type": "markdown",
   "metadata": {},
   "source": [
    "## Assigning individuals to workplaces and schools"
   ]
  },
  {
   "cell_type": "code",
   "execution_count": 5,
   "metadata": {},
   "outputs": [
    {
     "name": "stdout",
     "output_type": "stream",
     "text": [
      "instantiating individuals to workplaces...\n",
      "instantiating individuals to workplaces completed in  31.426000118255615\n"
     ]
    }
   ],
   "source": [
    "#split the individuals by workplace type\n",
    "individuals = {name: individuals.loc[individuals['workplaceType'] == name, :] for name in individuals['workplaceType'].unique()}\n",
    "\n",
    "print(\"instantiating individuals to workplaces...\")\n",
    "start = time.time()\n",
    "workplaces, individuals[1] = assign_workplaces(cityGeoDF, individuals[1], maxWorkplaceDistance)\n",
    "print(\"instantiating individuals to workplaces completed in \", time.time() - start)"
   ]
  },
  {
   "cell_type": "code",
   "execution_count": 6,
   "metadata": {},
   "outputs": [
    {
     "name": "stdout",
     "output_type": "stream",
     "text": [
      "instantiating individuals to schools...\n",
      "instantiating individuals to schools completed in  4.461597442626953\n"
     ]
    }
   ],
   "source": [
    "print(\"instantiating individuals to schools...\")\n",
    "start = time.time()\n",
    "individuals[2], schools = assign_schools(individuals[2], cityGeoDF,  schoolDistribution)\n",
    "print(\"instantiating individuals to schools completed in \", time.time() - start)"
   ]
  },
  {
   "cell_type": "markdown",
   "metadata": {},
   "source": [
    "## additonal processing based on demographics data"
   ]
  },
  {
   "cell_type": "code",
   "execution_count": 7,
   "metadata": {},
   "outputs": [
    {
     "name": "stdout",
     "output_type": "stream",
     "text": [
      "additonal data processing...\n",
      "additonal data processing completed in  1.3668453693389893\n"
     ]
    }
   ],
   "source": [
    "print(\"additonal data processing...\")\n",
    "start = time.time()\n",
    "\n",
    "#join the individuals\n",
    "individuals = pd.concat(individuals.values(), ignore_index=True)\n",
    "\n",
    "#associate individuals to common areas (by distance) and categorize workplace Type\n",
    "def getDistances(row, cc):\n",
    "    findCommunityCentre = cc[int(row[\"wardIndex\"])]\n",
    "\n",
    "    lat1 = row['lat']\n",
    "    lon1 = row['lon']\n",
    "\n",
    "    lat2 = findCommunityCentre[1]\n",
    "    lon2 = findCommunityCentre[0]\n",
    "\n",
    "    return distance(lat1, lon1, lat2, lon2)\n",
    "\n",
    "individuals['CommunityCentreDistance'] = individuals.apply(getDistances, axis=1, args=(commonArea['location'].values,))\n",
    "\n",
    "#Combining the IDs for schools and workplaces\n",
    "schoolID = schools['ID'].values[-1]\n",
    "workplaceID = [schoolID+1 + index for index in workplaces['ID'].values]\n",
    "workplaces['ID'] = workplaceID\n",
    "workplaces = workplaces.sort_values(by=['ID'])\n",
    "\n",
    "demographicsData['fracPopulation'] = demographicsData.apply(lambda row: row['totalPopulation']/demographicsData['totalPopulation'].values.sum(), axis=1)\n",
    "demographicsData = demographicsData.rename(columns={\"wardNo\": \"wardNo\"})\n",
    "print(\"additonal data processing completed in \", time.time() - start)"
   ]
  },
  {
   "cell_type": "markdown",
   "metadata": {},
   "source": [
    "## Dumping Instantiated static files as JSONs"
   ]
  },
  {
   "cell_type": "code",
   "execution_count": 8,
   "metadata": {},
   "outputs": [],
   "source": [
    "# print(\"saving instantiations as JSON....\")\n",
    "# start = time.time()\n",
    "# individuals.to_json(\"data/\"+city+\"/individuals.json\", orient='records')\n",
    "# households[['id', 'wardNo' ,'lat', 'lon']].to_json(\"data/\"+city+\"/houses.json\", orient='records')\n",
    "# schools[['ID', 'ward' ,'lat', 'lon']].to_json(\"data/\"+city+\"/schools.json\", orient='records')\n",
    "# workplaces[['ID', 'ward' ,'lat', 'lon']].to_json(\"data/\"+city+\"/workplaces.json\", orient='records')\n",
    "# commonArea[['ID', 'wardNo' ,'lat', 'lon']].to_json(\"data/\"+city+\"/commonArea.json\", orient='records')\n",
    "# computeWardCentreDistance(cityGeoDF, \"data/\"+city+\"/wardCentreDistance.json\")\n",
    "# demographicsData[['wardNo', 'totalPopulation', 'fracPopulation']].to_json(\"data/\"+city+\"/fractionPopulation.json\", orient=\"records\")\n",
    "# print(\"saving instantiations as JSON completed in \", time.time() - start)"
   ]
  },
  {
   "cell_type": "code",
   "execution_count": 9,
   "metadata": {},
   "outputs": [],
   "source": [
    "age_values, age_distribution = compute_age_distribution(ageDistribution)\n",
    "household_sizes, household_distribution = compute_household_size_distribution(householdSizes, householdDistribution)\n",
    "schoolsize_values, schoolsize_distribution = extrapolate_school_size_distribution(schoolDistribution)\n",
    "workplacesize_distribution = workplaces_size_distribution()\n"
   ]
  },
  {
   "cell_type": "code",
   "execution_count": 13,
   "metadata": {},
   "outputs": [
    {
     "data": {
      "text/plain": [
       "([<matplotlib.axis.XTick at 0x7fe47ae005f8>,\n",
       "  <matplotlib.axis.XTick at 0x7fe47ae005c0>,\n",
       "  <matplotlib.axis.XTick at 0x7fe47ae00208>,\n",
       "  <matplotlib.axis.XTick at 0x7fe47adaa1d0>,\n",
       "  <matplotlib.axis.XTick at 0x7fe47adaa668>,\n",
       "  <matplotlib.axis.XTick at 0x7fe47adaa9b0>,\n",
       "  <matplotlib.axis.XTick at 0x7fe47adaae48>,\n",
       "  <matplotlib.axis.XTick at 0x7fe47adaf320>,\n",
       "  <matplotlib.axis.XTick at 0x7fe47adaf7b8>],\n",
       " [Text(0, 0, '0'),\n",
       "  Text(0, 0, '10'),\n",
       "  Text(0, 0, '20'),\n",
       "  Text(0, 0, '30'),\n",
       "  Text(0, 0, '40'),\n",
       "  Text(0, 0, '50'),\n",
       "  Text(0, 0, '60'),\n",
       "  Text(0, 0, '70'),\n",
       "  Text(0, 0, '80+')])"
      ]
     },
     "execution_count": 13,
     "metadata": {},
     "output_type": "execute_result"
    },
    {
     "data": {
      "image/png": "[encoded data removed]",
      "text/plain": [
       "<Figure size 432x288 with 1 Axes>"
      ]
     },
     "metadata": {
      "needs_background": "light"
     },
     "output_type": "display_data"
    }
   ],
   "source": [
    "import matplotlib.pyplot as plt\n",
    "\n",
    "plt.plot(individuals['age'].value_counts(normalize=True).sort_index(ascending=True), 'r')\n",
    "plt.plot(age_distribution, 'b')\n",
    "plt.xlabel('Age')\n",
    "plt.ylabel('Density')\n",
    "plt.title('Distribution of age')\n",
    "plt.grid(True)\n",
    "plt.xticks(np.arange(0,81,10), np.concatenate((age_values[np.arange(0,71,10)], ['80+'])) )"
   ]
  },
  {
   "cell_type": "code",
   "execution_count": 14,
   "metadata": {},
   "outputs": [
    {
     "data": {
      "image/png": "[encoded data removed]",
      "text/plain": [
       "<Figure size 432x288 with 1 Axes>"
      ]
     },
     "metadata": {
      "needs_background": "light"
     },
     "output_type": "display_data"
    }
   ],
   "source": [
    "plt.plot(household_sizes, households['people staying'].value_counts(normalize=True).sort_index(ascending=True), 'r')\n",
    "plt.plot(household_sizes, household_distribution, 'b')\n",
    "plt.xlabel('Household size')\n",
    "plt.ylabel('Density')\n",
    "plt.title('Distribution of household size')\n",
    "plt.grid(True)\n"
   ]
  },
  {
   "cell_type": "code",
   "execution_count": 40,
   "metadata": {},
   "outputs": [
    {
     "data": {
      "text/plain": [
       "([<matplotlib.axis.XTick at 0x7fe47a589f98>,\n",
       "  <matplotlib.axis.XTick at 0x7fe47a589f60>,\n",
       "  <matplotlib.axis.XTick at 0x7fe47a589ba8>,\n",
       "  <matplotlib.axis.XTick at 0x7fe47aaa1898>,\n",
       "  <matplotlib.axis.XTick at 0x7fe47aaa1d30>],\n",
       " [Text(0, 0, '1'),\n",
       "  Text(0, 0, '10'),\n",
       "  Text(0, 0, '100'),\n",
       "  Text(0, 0, '1000'),\n",
       "  Text(0, 0, '2400')])"
      ]
     },
     "execution_count": 40,
     "metadata": {},
     "output_type": "execute_result"
    },
    {
     "data": {
      "image/png": "[encoded data removed]",
      "text/plain": [
       "<Figure size 432x288 with 1 Axes>"
      ]
     },
     "metadata": {
      "needs_background": "light"
     },
     "output_type": "display_data"
    }
   ],
   "source": [
    "m_max = 2870\n",
    "workplace_sizes = np.arange(m_max)\n",
    "\n",
    "# WP_numbers = np.array([workplaces.loc[workplaces['capacity']==workplace_sizes[i]] for i in range(0,len(workplace_sizes))])\n",
    "# WP_numbers = WP_numbers/sum(WP_numbers)\n",
    "\n",
    "plt.plot(np.log10(workplace_sizes), np.log10(workplacesize_distribution))\n",
    "plt.xlabel('Workplace size (log-scale)')\n",
    "plt.ylabel('log-Density')\n",
    "plt.title('Distribution of workplace size (in log-scale)')\n",
    "plt.grid(True)\n",
    "plot_xlabel =  [1, 10, 100, 1000, 2400]\n",
    "\n",
    "plot_xlabel1 = np.log(workplace_sizes)[plot_xlabel]\n",
    "plt.xticks(plot_xlabel1, (workplace_sizes)[plot_xlabel])\n",
    "#plt.plot(np.log10(workplace_sizes), np.log10(workplaces['capacity'].value_counts(normalize=True)), 'r')"
   ]
  },
  {
   "cell_type": "code",
   "execution_count": 35,
   "metadata": {},
   "outputs": [
    {
     "data": {
      "text/plain": [
       "0       19\n",
       "1       72\n",
       "2        2\n",
       "3        1\n",
       "4        3\n",
       "      ... \n",
       "119     17\n",
       "120      1\n",
       "121     61\n",
       "122      2\n",
       "123    120\n",
       "Name: capacity, Length: 124, dtype: int64"
      ]
     },
     "execution_count": 35,
     "metadata": {},
     "output_type": "execute_result"
    }
   ],
   "source": []
  },
  {
   "cell_type": "code",
   "execution_count": 17,
   "metadata": {},
   "outputs": [
    {
     "data": {
      "text/html": [
       "<div>\n",
       "<style scoped>\n",
       "    .dataframe tbody tr th:only-of-type {\n",
       "        vertical-align: middle;\n",
       "    }\n",
       "\n",
       "    .dataframe tbody tr th {\n",
       "        vertical-align: top;\n",
       "    }\n",
       "\n",
       "    .dataframe thead th {\n",
       "        text-align: right;\n",
       "    }\n",
       "</style>\n",
       "<table border=\"1\" class=\"dataframe\">\n",
       "  <thead>\n",
       "    <tr style=\"text-align: right;\">\n",
       "      <th></th>\n",
       "      <th>ID</th>\n",
       "      <th>ward</th>\n",
       "      <th>lat</th>\n",
       "      <th>lon</th>\n",
       "      <th>location</th>\n",
       "      <th>capacity</th>\n",
       "      <th>workforce</th>\n",
       "      <th>workers</th>\n",
       "      <th>distances</th>\n",
       "    </tr>\n",
       "  </thead>\n",
       "  <tbody>\n",
       "    <tr>\n",
       "      <th>0</th>\n",
       "      <td>7</td>\n",
       "      <td>90</td>\n",
       "      <td>12.987940</td>\n",
       "      <td>77.620287</td>\n",
       "      <td>(77.62028678331403, 12.987940097756733)</td>\n",
       "      <td>19</td>\n",
       "      <td>19</td>\n",
       "      <td>[6873, 5405, 6223, 87, 5712, 7449, 3309, 2014,...</td>\n",
       "      <td>[0.5008846042484054, 5.292661524717327, 3.5271...</td>\n",
       "    </tr>\n",
       "    <tr>\n",
       "      <th>1</th>\n",
       "      <td>8</td>\n",
       "      <td>108</td>\n",
       "      <td>12.979553</td>\n",
       "      <td>77.558958</td>\n",
       "      <td>(77.5589578954326, 12.979552940028066)</td>\n",
       "      <td>72</td>\n",
       "      <td>72</td>\n",
       "      <td>[8504, 2746, 6303, 1216, 7557, 6304, 2536, 944...</td>\n",
       "      <td>[0.4033473898260889, 1.6277904311639793, 0.403...</td>\n",
       "    </tr>\n",
       "    <tr>\n",
       "      <th>2</th>\n",
       "      <td>9</td>\n",
       "      <td>180</td>\n",
       "      <td>12.909255</td>\n",
       "      <td>77.567329</td>\n",
       "      <td>(77.56732904157678, 12.909254563550252)</td>\n",
       "      <td>2</td>\n",
       "      <td>2</td>\n",
       "      <td>[1436, 6551]</td>\n",
       "      <td>[28.476061773055363, 3.5834516501885454]</td>\n",
       "    </tr>\n",
       "    <tr>\n",
       "      <th>3</th>\n",
       "      <td>10</td>\n",
       "      <td>184</td>\n",
       "      <td>12.884286</td>\n",
       "      <td>77.528333</td>\n",
       "      <td>(77.52833275328211, 12.88428638349778)</td>\n",
       "      <td>1</td>\n",
       "      <td>1</td>\n",
       "      <td>[784]</td>\n",
       "      <td>[2.9328211579376355]</td>\n",
       "    </tr>\n",
       "    <tr>\n",
       "      <th>4</th>\n",
       "      <td>11</td>\n",
       "      <td>193</td>\n",
       "      <td>12.868456</td>\n",
       "      <td>77.592299</td>\n",
       "      <td>(77.59229858270686, 12.8684555568063)</td>\n",
       "      <td>3</td>\n",
       "      <td>3</td>\n",
       "      <td>[5356, 5145, 6791]</td>\n",
       "      <td>[1.8345819207306253, 5.419735854885509, 18.228...</td>\n",
       "    </tr>\n",
       "    <tr>\n",
       "      <th>...</th>\n",
       "      <td>...</td>\n",
       "      <td>...</td>\n",
       "      <td>...</td>\n",
       "      <td>...</td>\n",
       "      <td>...</td>\n",
       "      <td>...</td>\n",
       "      <td>...</td>\n",
       "      <td>...</td>\n",
       "      <td>...</td>\n",
       "    </tr>\n",
       "    <tr>\n",
       "      <th>119</th>\n",
       "      <td>126</td>\n",
       "      <td>71</td>\n",
       "      <td>13.008812</td>\n",
       "      <td>77.493844</td>\n",
       "      <td>(77.49384412143756, 13.008811602887866)</td>\n",
       "      <td>17</td>\n",
       "      <td>17</td>\n",
       "      <td>[4794, 3892, 4360, 7561, 514, 6956, 7596, 0, 2...</td>\n",
       "      <td>[3.770833834615993, 0.25805181292369966, 1.962...</td>\n",
       "    </tr>\n",
       "    <tr>\n",
       "      <th>120</th>\n",
       "      <td>127</td>\n",
       "      <td>124</td>\n",
       "      <td>12.968059</td>\n",
       "      <td>77.547031</td>\n",
       "      <td>(77.54703086583136, 12.96805923077217)</td>\n",
       "      <td>1</td>\n",
       "      <td>1</td>\n",
       "      <td>[5070]</td>\n",
       "      <td>[9.823337848847231]</td>\n",
       "    </tr>\n",
       "    <tr>\n",
       "      <th>121</th>\n",
       "      <td>128</td>\n",
       "      <td>94</td>\n",
       "      <td>12.987403</td>\n",
       "      <td>77.582514</td>\n",
       "      <td>(77.58251371306429, 12.987402599039843)</td>\n",
       "      <td>61</td>\n",
       "      <td>61</td>\n",
       "      <td>[611, 1649, 3565, 2435, 5014, 2305, 464, 7244,...</td>\n",
       "      <td>[1.348922791427798, 6.961559235415328, 4.51787...</td>\n",
       "    </tr>\n",
       "    <tr>\n",
       "      <th>122</th>\n",
       "      <td>129</td>\n",
       "      <td>149</td>\n",
       "      <td>12.917836</td>\n",
       "      <td>77.706521</td>\n",
       "      <td>(77.70652102263784, 12.917836117997394)</td>\n",
       "      <td>2</td>\n",
       "      <td>2</td>\n",
       "      <td>[130, 9635]</td>\n",
       "      <td>[3.4642727294793065, 1.4553357498477995]</td>\n",
       "    </tr>\n",
       "    <tr>\n",
       "      <th>123</th>\n",
       "      <td>130</td>\n",
       "      <td>6</td>\n",
       "      <td>13.054955</td>\n",
       "      <td>77.636785</td>\n",
       "      <td>(77.63678522326283, 13.054955396673813)</td>\n",
       "      <td>120</td>\n",
       "      <td>120</td>\n",
       "      <td>[7861, 3979, 2901, 6778, 5361, 7586, 9814, 263...</td>\n",
       "      <td>[1.853710939155021, 1.7657211647027153, 2.1488...</td>\n",
       "    </tr>\n",
       "  </tbody>\n",
       "</table>\n",
       "<p>124 rows × 9 columns</p>\n",
       "</div>"
      ],
      "text/plain": [
       "      ID  ward        lat        lon                                 location  \\\n",
       "0      7    90  12.987940  77.620287  (77.62028678331403, 12.987940097756733)   \n",
       "1      8   108  12.979553  77.558958   (77.5589578954326, 12.979552940028066)   \n",
       "2      9   180  12.909255  77.567329  (77.56732904157678, 12.909254563550252)   \n",
       "3     10   184  12.884286  77.528333   (77.52833275328211, 12.88428638349778)   \n",
       "4     11   193  12.868456  77.592299    (77.59229858270686, 12.8684555568063)   \n",
       "..   ...   ...        ...        ...                                      ...   \n",
       "119  126    71  13.008812  77.493844  (77.49384412143756, 13.008811602887866)   \n",
       "120  127   124  12.968059  77.547031   (77.54703086583136, 12.96805923077217)   \n",
       "121  128    94  12.987403  77.582514  (77.58251371306429, 12.987402599039843)   \n",
       "122  129   149  12.917836  77.706521  (77.70652102263784, 12.917836117997394)   \n",
       "123  130     6  13.054955  77.636785  (77.63678522326283, 13.054955396673813)   \n",
       "\n",
       "     capacity  workforce                                            workers  \\\n",
       "0          19         19  [6873, 5405, 6223, 87, 5712, 7449, 3309, 2014,...   \n",
       "1          72         72  [8504, 2746, 6303, 1216, 7557, 6304, 2536, 944...   \n",
       "2           2          2                                       [1436, 6551]   \n",
       "3           1          1                                              [784]   \n",
       "4           3          3                                 [5356, 5145, 6791]   \n",
       "..        ...        ...                                                ...   \n",
       "119        17         17  [4794, 3892, 4360, 7561, 514, 6956, 7596, 0, 2...   \n",
       "120         1          1                                             [5070]   \n",
       "121        61         61  [611, 1649, 3565, 2435, 5014, 2305, 464, 7244,...   \n",
       "122         2          2                                        [130, 9635]   \n",
       "123       120        120  [7861, 3979, 2901, 6778, 5361, 7586, 9814, 263...   \n",
       "\n",
       "                                             distances  \n",
       "0    [0.5008846042484054, 5.292661524717327, 3.5271...  \n",
       "1    [0.4033473898260889, 1.6277904311639793, 0.403...  \n",
       "2             [28.476061773055363, 3.5834516501885454]  \n",
       "3                                 [2.9328211579376355]  \n",
       "4    [1.8345819207306253, 5.419735854885509, 18.228...  \n",
       "..                                                 ...  \n",
       "119  [3.770833834615993, 0.25805181292369966, 1.962...  \n",
       "120                                [9.823337848847231]  \n",
       "121  [1.348922791427798, 6.961559235415328, 4.51787...  \n",
       "122           [3.4642727294793065, 1.4553357498477995]  \n",
       "123  [1.853710939155021, 1.7657211647027153, 2.1488...  \n",
       "\n",
       "[124 rows x 9 columns]"
      ]
     },
     "execution_count": 17,
     "metadata": {},
     "output_type": "execute_result"
    }
   ],
   "source": [
    "workplaces"
   ]
  },
  {
   "cell_type": "code",
   "execution_count": null,
   "metadata": {},
   "outputs": [],
   "source": []
  }
 ],
 "metadata": {
  "kernelspec": {
   "display_name": "Python 3",
   "language": "python",
   "name": "python3"
  },
  "language_info": {
   "codemirror_mode": {
    "name": "ipython",
    "version": 3
   },
   "file_extension": ".py",
   "mimetype": "text/x-python",
   "name": "python",
   "nbconvert_exporter": "python",
   "pygments_lexer": "ipython3",
   "version": "3.6.9"
  }
 },
 "nbformat": 4,
 "nbformat_minor": 2
}
