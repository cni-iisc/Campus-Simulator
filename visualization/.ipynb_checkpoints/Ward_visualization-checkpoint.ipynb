{
 "cells": [
  {
   "cell_type": "code",
   "execution_count": 16,
   "metadata": {},
   "outputs": [],
   "source": [
    "from datetime import datetime, timedelta \n",
    "import geojson as gjsn\n",
    "import json\n",
    "from keplergl import KeplerGl\n",
    "import numpy as np\n",
    "import pandas as pd\n",
    "from tqdm import trange"
   ]
  },
  {
   "cell_type": "code",
   "execution_count": 17,
   "metadata": {},
   "outputs": [],
   "source": [
    "ward_file = open('../staticInst/data/banglore_citymap.geojson', 'r')\n",
    "ward_data = json.load(ward_file)\n",
    "\n",
    "timeseries_data = pd.read_csv('/Users/nihesh/Downloads/my_data_all_together.csv', header=None)\n",
    "timeseries_data.columns = ['timestep', 'ward_no', 'infected', 'affected', 'hospitalised','critical','dead']"
   ]
  },
  {
   "cell_type": "code",
   "execution_count": 18,
   "metadata": {},
   "outputs": [],
   "source": [
    "def verify_count(val):\n",
    "    if (len(val)):\n",
    "        return (int(val))\n",
    "    else:\n",
    "        return (0)"
   ]
  },
  {
   "cell_type": "code",
   "execution_count": 20,
   "metadata": {},
   "outputs": [
    {
     "name": "stderr",
     "output_type": "stream",
     "text": [
      "100%|██████████| 200/200 [01:39<00:00,  2.02it/s]\n"
     ]
    }
   ],
   "source": [
    "OBJECT_ID = []\n",
    "WARD_NO = []\n",
    "WARD_NAME = []\n",
    "LAT = []\n",
    "LON = []\n",
    "INFECTED = []\n",
    "AFFECTED = []\n",
    "HOSPITALISED = []\n",
    "CRITICAL = []\n",
    "DEAD = []\n",
    "TIMESTAMP = []\n",
    "GEOMETRY = []\n",
    "\n",
    "NUM_TIMESTEPS = int(len(timeseries_data)/198)\n",
    "\n",
    "init_date = datetime.strptime('2020/01/01 00:01', '%Y/%m/%d %H:%M')\n",
    "\n",
    "for i in range(NUM_TIMESTEPS):\n",
    "    for feature in ward_data['features']:\n",
    "        fm_date = init_date + timedelta(days=i)\n",
    "        OBJECT_ID.append(feature['properties']['OBJECTID'])\n",
    "        WARD_NO.append(feature['properties']['WARD_NO'])\n",
    "        WARD_NAME.append(feature['properties']['WARD_NAME'])\n",
    "        LAT.append(feature['properties']['LAT'])\n",
    "        LON.append(feature['properties']['LON'])\n",
    "        condition_1 = (timeseries_data['timestep']==i)\n",
    "        condition_2 = (timeseries_data['ward_no']==feature['properties']['WARD_NO'])\n",
    "        filtered_row = timeseries_data[condition_1 & condition_2]\n",
    "        INFECTED.append(verify_count(filtered_row['infected']))\n",
    "        AFFECTED.append(verify_count(filtered_row['affected']))\n",
    "        HOSPITALISED.append(verify_count(filtered_row['hospitalised']))\n",
    "        CRITICAL.append(verify_count(filtered_row['critical']))\n",
    "        DEAD.append(verify_count(filtered_row['dead']))\n",
    "        TIMESTAMP.append(datetime.strftime(fm_date, '%Y/%m/%d %H:%M'))\n",
    "        GEOMETRY.append('{\"type\": \"Polygon\", \"coordinates\": ' + str(feature['geometry']['coordinates'])[1:-1]+'}' )"
   ]
  },
  {
   "cell_type": "code",
   "execution_count": 21,
   "metadata": {},
   "outputs": [],
   "source": [
    "df = pd.DataFrame({\n",
    "    'ObjectID': OBJECT_ID,\n",
    "    'WardNo': WARD_NO,\n",
    "    'WardName': WARD_NAME,\n",
    "    'Latitude': LAT,\n",
    "    'Longitude': LON,\n",
    "    'Infected': INFECTED,\n",
    "    'Affected': AFFECTED,\n",
    "    'Hospitalised': HOSPITALISED,\n",
    "    'Critical': CRITICAL,\n",
    "    'Dead': DEAD,\n",
    "    'Geometry': GEOMETRY,\n",
    "    'TimeStamp': TIMESTAMP\n",
    "})"
   ]
  },
  {
   "cell_type": "code",
   "execution_count": 25,
   "metadata": {},
   "outputs": [],
   "source": [
    "configs = {'version': 'v1',\n",
    " 'config': {'visState': {'filters': [{'dataId': 'Infection progression',\n",
    "     'id': '2pcfokhjm',\n",
    "     'name': 'TimeStamp',\n",
    "     'type': 'timeRange',\n",
    "     'value': [1577836860000, 1578002867000],\n",
    "     'enlarged': True,\n",
    "     'plotType': 'lineChart',\n",
    "     'yAxis': {'name': 'Infected', 'type': 'integer'}}],\n",
    "   'layers': [{'id': '69rl8gw',\n",
    "     'type': 'point',\n",
    "     'config': {'dataId': 'Infection progression',\n",
    "      'label': 'Point',\n",
    "      'color': [18, 147, 154],\n",
    "      'columns': {'lat': 'Latitude', 'lng': 'Longitude', 'altitude': None},\n",
    "      'isVisible': False,\n",
    "      'visConfig': {'radius': 10,\n",
    "       'fixedRadius': False,\n",
    "       'opacity': 0.8,\n",
    "       'outline': False,\n",
    "       'thickness': 2,\n",
    "       'strokeColor': None,\n",
    "       'colorRange': {'name': 'Global Warming',\n",
    "        'type': 'sequential',\n",
    "        'category': 'Uber',\n",
    "        'colors': ['#5A1846',\n",
    "         '#900C3F',\n",
    "         '#C70039',\n",
    "         '#E3611C',\n",
    "         '#F1920E',\n",
    "         '#FFC300']},\n",
    "       'strokeColorRange': {'name': 'Global Warming',\n",
    "        'type': 'sequential',\n",
    "        'category': 'Uber',\n",
    "        'colors': ['#5A1846',\n",
    "         '#900C3F',\n",
    "         '#C70039',\n",
    "         '#E3611C',\n",
    "         '#F1920E',\n",
    "         '#FFC300']},\n",
    "       'radiusRange': [0, 50],\n",
    "       'filled': True},\n",
    "      'textLabel': [{'field': None,\n",
    "        'color': [255, 255, 255],\n",
    "        'size': 18,\n",
    "        'offset': [0, 0],\n",
    "        'anchor': 'start',\n",
    "        'alignment': 'center'}]},\n",
    "     'visualChannels': {'colorField': None,\n",
    "      'colorScale': 'quantile',\n",
    "      'strokeColorField': None,\n",
    "      'strokeColorScale': 'quantile',\n",
    "      'sizeField': None,\n",
    "      'sizeScale': 'linear'}},\n",
    "    {'id': '2apd9sl',\n",
    "     'type': 'geojson',\n",
    "     'config': {'dataId': 'Infection progression',\n",
    "      'label': 'Infection progression',\n",
    "      'color': [221, 178, 124],\n",
    "      'columns': {'geojson': 'Geometry'},\n",
    "      'isVisible': True,\n",
    "      'visConfig': {'opacity': 0.8,\n",
    "       'thickness': 0.5,\n",
    "       'strokeColor': [136, 87, 44],\n",
    "       'colorRange': {'name': 'Uber Viz Diverging 3.5',\n",
    "        'type': 'diverging',\n",
    "        'category': 'Uber',\n",
    "        'colors': ['#00939C',\n",
    "         '#2FA7AE',\n",
    "         '#5DBABF',\n",
    "         '#8CCED1',\n",
    "         '#BAE1E2',\n",
    "         '#F8C0AA',\n",
    "         '#EB9C80',\n",
    "         '#DD7755',\n",
    "         '#D0532B',\n",
    "         '#C22E00']},\n",
    "       'strokeColorRange': {'name': 'Global Warming',\n",
    "        'type': 'sequential',\n",
    "        'category': 'Uber',\n",
    "        'colors': ['#5A1846',\n",
    "         '#900C3F',\n",
    "         '#C70039',\n",
    "         '#E3611C',\n",
    "         '#F1920E',\n",
    "         '#FFC300']},\n",
    "       'radius': 10,\n",
    "       'sizeRange': [0, 10],\n",
    "       'radiusRange': [0, 50],\n",
    "       'heightRange': [0, 500],\n",
    "       'elevationScale': 5,\n",
    "       'stroked': False,\n",
    "       'filled': True,\n",
    "       'enable3d': False,\n",
    "       'wireframe': False},\n",
    "      'textLabel': [{'field': None,\n",
    "        'color': [255, 255, 255],\n",
    "        'size': 18,\n",
    "        'offset': [0, 0],\n",
    "        'anchor': 'start',\n",
    "        'alignment': 'center'}]},\n",
    "     'visualChannels': {'colorField': {'name': 'Infected', 'type': 'integer'},\n",
    "      'colorScale': 'quantize',\n",
    "      'sizeField': None,\n",
    "      'sizeScale': 'linear',\n",
    "      'strokeColorField': None,\n",
    "      'strokeColorScale': 'quantile',\n",
    "      'heightField': None,\n",
    "      'heightScale': 'linear',\n",
    "      'radiusField': None,\n",
    "      'radiusScale': 'linear'}}],\n",
    "   'interactionConfig': {'tooltip': {'fieldsToShow': {'Infection progression': ['ObjectID',\n",
    "       'WardNo',\n",
    "       'WardName',\n",
    "       'Latitude',\n",
    "       'Longitude']},\n",
    "     'enabled': True},\n",
    "    'brush': {'size': 0.5, 'enabled': False}},\n",
    "   'layerBlending': 'normal',\n",
    "   'splitMaps': [],\n",
    "   'animationConfig': {'currentTime': None, 'speed': 1}},\n",
    "  'mapState': {'bearing': 0,\n",
    "   'dragRotate': False,\n",
    "   'latitude': 13.002128705374691,\n",
    "   'longitude': 77.6220769907232,\n",
    "   'pitch': 0,\n",
    "   'zoom': 10,\n",
    "   'isSplit': False},\n",
    "  'mapStyle': {'styleType': 'dark',\n",
    "   'topLayerGroups': {},\n",
    "   'visibleLayerGroups': {'label': True,\n",
    "    'road': True,\n",
    "    'border': False,\n",
    "    'building': True,\n",
    "    'water': True,\n",
    "    'land': True,\n",
    "    '3d building': False},\n",
    "   'threeDBuildingColor': [9.665468314072013,\n",
    "    17.18305478057247,\n",
    "    31.1442867897876],\n",
    "   'mapStyles': {}}}}"
   ]
  },
  {
   "cell_type": "code",
   "execution_count": 26,
   "metadata": {},
   "outputs": [
    {
     "name": "stdout",
     "output_type": "stream",
     "text": [
      "User Guide: https://github.com/keplergl/kepler.gl/blob/master/docs/keplergl-jupyter/user-guide.md\n"
     ]
    }
   ],
   "source": [
    "map1 = KeplerGl(height=800)\n",
    "map1.add_data(data=df, name='Infection progression')\n",
    "map1.config = configs"
   ]
  },
  {
   "cell_type": "code",
   "execution_count": 27,
   "metadata": {},
   "outputs": [
    {
     "data": {
      "application/vnd.jupyter.widget-view+json": {
       "model_id": "bb3222de6a5f46d8834d8e7274fb48fe",
       "version_major": 2,
       "version_minor": 0
      },
      "text/plain": [
       "KeplerGl(config={'version': 'v1', 'config': {'visState': {'filters': [{'dataId': 'Infection progression', 'id'…"
      ]
     },
     "metadata": {},
     "output_type": "display_data"
    }
   ],
   "source": [
    "map1"
   ]
  },
  {
   "cell_type": "code",
   "execution_count": null,
   "metadata": {},
   "outputs": [],
   "source": []
  }
 ],
 "metadata": {
  "kernelspec": {
   "display_name": "Python 3",
   "language": "python",
   "name": "python3"
  },
  "language_info": {
   "codemirror_mode": {
    "name": "ipython",
    "version": 3
   },
   "file_extension": ".py",
   "mimetype": "text/x-python",
   "name": "python",
   "nbconvert_exporter": "python",
   "pygments_lexer": "ipython3",
   "version": "3.7.0"
  }
 },
 "nbformat": 4,
 "nbformat_minor": 2
}
